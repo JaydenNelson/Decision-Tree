{
 "cells": [
  {
   "cell_type": "markdown",
   "id": "750afe18",
   "metadata": {},
   "source": [
    "Import necessary libraries."
   ]
  },
  {
   "cell_type": "code",
   "execution_count": 1,
   "id": "fe46f98e",
   "metadata": {},
   "outputs": [],
   "source": [
    "import pandas as pd\n",
    "import numpy as np\n",
    "import matplotlib.pyplot as plt\n",
    "import seaborn as sns"
   ]
  },
  {
   "cell_type": "markdown",
   "id": "825c0621",
   "metadata": {},
   "source": [
    "## Load our data"
   ]
  },
  {
   "cell_type": "code",
   "execution_count": 2,
   "id": "973c4733",
   "metadata": {},
   "outputs": [
    {
     "data": {
      "text/html": [
       "<div>\n",
       "<style scoped>\n",
       "    .dataframe tbody tr th:only-of-type {\n",
       "        vertical-align: middle;\n",
       "    }\n",
       "\n",
       "    .dataframe tbody tr th {\n",
       "        vertical-align: top;\n",
       "    }\n",
       "\n",
       "    .dataframe thead th {\n",
       "        text-align: right;\n",
       "    }\n",
       "</style>\n",
       "<table border=\"1\" class=\"dataframe\">\n",
       "  <thead>\n",
       "    <tr style=\"text-align: right;\">\n",
       "      <th></th>\n",
       "      <th>Outlook</th>\n",
       "      <th>Temperature</th>\n",
       "      <th>Humidity</th>\n",
       "      <th>Windy</th>\n",
       "      <th>Play Golf</th>\n",
       "    </tr>\n",
       "  </thead>\n",
       "  <tbody>\n",
       "    <tr>\n",
       "      <th>0</th>\n",
       "      <td>Rainy</td>\n",
       "      <td>Hot</td>\n",
       "      <td>High</td>\n",
       "      <td>True</td>\n",
       "      <td>No</td>\n",
       "    </tr>\n",
       "    <tr>\n",
       "      <th>1</th>\n",
       "      <td>Rainy</td>\n",
       "      <td>Hot</td>\n",
       "      <td>High</td>\n",
       "      <td>True</td>\n",
       "      <td>Yes</td>\n",
       "    </tr>\n",
       "    <tr>\n",
       "      <th>2</th>\n",
       "      <td>Overcast</td>\n",
       "      <td>Hot</td>\n",
       "      <td>High</td>\n",
       "      <td>False</td>\n",
       "      <td>Yes</td>\n",
       "    </tr>\n",
       "    <tr>\n",
       "      <th>3</th>\n",
       "      <td>Sunny</td>\n",
       "      <td>Mild</td>\n",
       "      <td>High</td>\n",
       "      <td>False</td>\n",
       "      <td>Yes</td>\n",
       "    </tr>\n",
       "    <tr>\n",
       "      <th>4</th>\n",
       "      <td>Sunny</td>\n",
       "      <td>Cool</td>\n",
       "      <td>Normal</td>\n",
       "      <td>False</td>\n",
       "      <td>No</td>\n",
       "    </tr>\n",
       "  </tbody>\n",
       "</table>\n",
       "</div>"
      ],
      "text/plain": [
       "    Outlook Temperature Humidity  Windy Play Golf\n",
       "0     Rainy         Hot     High   True        No\n",
       "1     Rainy         Hot     High   True       Yes\n",
       "2  Overcast         Hot     High  False       Yes\n",
       "3     Sunny        Mild     High  False       Yes\n",
       "4     Sunny        Cool   Normal  False        No"
      ]
     },
     "execution_count": 2,
     "metadata": {},
     "output_type": "execute_result"
    }
   ],
   "source": [
    "df = pd.read_excel(r\"C:\\Users\\Lokey\\Desktop\\lucy\\Weather_Data.xlsx\")\n",
    "df.head()"
   ]
  },
  {
   "cell_type": "code",
   "execution_count": 3,
   "id": "10bd937a",
   "metadata": {},
   "outputs": [
    {
     "data": {
      "text/plain": [
       "(14, 5)"
      ]
     },
     "execution_count": 3,
     "metadata": {},
     "output_type": "execute_result"
    }
   ],
   "source": [
    "df.shape"
   ]
  },
  {
   "cell_type": "markdown",
   "id": "9689317a",
   "metadata": {},
   "source": [
    "## Table Value Options"
   ]
  },
  {
   "cell_type": "code",
   "execution_count": 4,
   "id": "a5edee3f",
   "metadata": {},
   "outputs": [],
   "source": [
    "Outlook = ['Rainy', 'Overcast', 'Sunny']\n",
    "Temperature = ['Hot', 'Mild','Cool']\n",
    "Humidity = ['High','Normal']\n",
    "Windy = ['True', 'False'] #might not work with string\n",
    "PlayGolf = ['Yes','No']"
   ]
  },
  {
   "cell_type": "markdown",
   "id": "238d436e",
   "metadata": {},
   "source": [
    "## Order Table by Temperature - Calculate based on Temperature"
   ]
  },
  {
   "cell_type": "code",
   "execution_count": 5,
   "id": "d7035f57",
   "metadata": {},
   "outputs": [
    {
     "data": {
      "text/html": [
       "<div>\n",
       "<style scoped>\n",
       "    .dataframe tbody tr th:only-of-type {\n",
       "        vertical-align: middle;\n",
       "    }\n",
       "\n",
       "    .dataframe tbody tr th {\n",
       "        vertical-align: top;\n",
       "    }\n",
       "\n",
       "    .dataframe thead th {\n",
       "        text-align: right;\n",
       "    }\n",
       "</style>\n",
       "<table border=\"1\" class=\"dataframe\">\n",
       "  <thead>\n",
       "    <tr style=\"text-align: right;\">\n",
       "      <th></th>\n",
       "      <th>Outlook</th>\n",
       "      <th>Temperature</th>\n",
       "      <th>Humidity</th>\n",
       "      <th>Windy</th>\n",
       "      <th>Play Golf</th>\n",
       "    </tr>\n",
       "  </thead>\n",
       "  <tbody>\n",
       "    <tr>\n",
       "      <th>0</th>\n",
       "      <td>Rainy</td>\n",
       "      <td>Hot</td>\n",
       "      <td>High</td>\n",
       "      <td>True</td>\n",
       "      <td>No</td>\n",
       "    </tr>\n",
       "    <tr>\n",
       "      <th>1</th>\n",
       "      <td>Rainy</td>\n",
       "      <td>Hot</td>\n",
       "      <td>High</td>\n",
       "      <td>True</td>\n",
       "      <td>Yes</td>\n",
       "    </tr>\n",
       "    <tr>\n",
       "      <th>2</th>\n",
       "      <td>Overcast</td>\n",
       "      <td>Hot</td>\n",
       "      <td>High</td>\n",
       "      <td>False</td>\n",
       "      <td>Yes</td>\n",
       "    </tr>\n",
       "    <tr>\n",
       "      <th>3</th>\n",
       "      <td>Overcast</td>\n",
       "      <td>Hot</td>\n",
       "      <td>Normal</td>\n",
       "      <td>False</td>\n",
       "      <td>Yes</td>\n",
       "    </tr>\n",
       "  </tbody>\n",
       "</table>\n",
       "</div>"
      ],
      "text/plain": [
       "    Outlook Temperature Humidity  Windy Play Golf\n",
       "0     Rainy         Hot     High   True        No\n",
       "1     Rainy         Hot     High   True       Yes\n",
       "2  Overcast         Hot     High  False       Yes\n",
       "3  Overcast         Hot   Normal  False       Yes"
      ]
     },
     "execution_count": 5,
     "metadata": {},
     "output_type": "execute_result"
    }
   ],
   "source": [
    "#might have to change this..is this the column that it refers to?\n",
    "df_temp_Hot = df.loc[df['Temperature'] == 'Hot']\n",
    "df_temp_Hot = df_temp_Hot.reset_index(drop=True)\n",
    "\n",
    "df_temp_Mild = df.loc[df['Temperature'] == 'Mild']\n",
    "df_temp_Mild = df_temp_Mild.reset_index(drop=True)\n",
    "\n",
    "df_temp_Cool = df.loc[df['Temperature'] == 'Cool']\n",
    "df_temp_Cool = df_temp_Cool.reset_index(drop=True)\n",
    "\n",
    "df_Temp = [df_temp_Hot, df_temp_Mild, df_temp_Cool]\n",
    "df_Temp[0] #arrays start from index 0"
   ]
  },
  {
   "cell_type": "code",
   "execution_count": 6,
   "id": "39bfebf9",
   "metadata": {},
   "outputs": [
    {
     "data": {
      "text/plain": [
       "[array([[0.4],\n",
       "        [0.4],\n",
       "        [0.2]]),\n",
       " array([[0.5 ],\n",
       "        [0.25],\n",
       "        [0.25]])]"
      ]
     },
     "execution_count": 6,
     "metadata": {},
     "output_type": "execute_result"
    }
   ],
   "source": [
    "for nn in range(2):\n",
    "    temp_data = []\n",
    "    label = Outlook[nn]\n",
    "    \n",
    "    for n in range(3): #Table Value Options\n",
    "        xx = []\n",
    "        df_temp = df_Temp[n]\n",
    "        val_temperature = Temperature[n]# refs table value option\n",
    "        \n",
    "        #df_temp['whatever'] references column in excel sheet\n",
    "        #i - references your row in excel sheet\n",
    "        for i in range(len(df_temp)):\n",
    "            x = int((df_temp['Temperature'][i] == val_temperature and df_temp['Outlook'][i] == label))\n",
    "            xx = np.append(xx,x) #adds\n",
    "            xxx = sum(xx)\n",
    "            \n",
    "        temp_data = np.append(temp_data, xxx) #add\n",
    "    \n",
    "    prob_temp = (temp_data/sum(temp_data)).reshape(3,1) #calculates probability\n",
    "    \n",
    "    if nn == 0:\n",
    "        prob_Temp = prob_temp\n",
    "    if nn == 1:\n",
    "        prob_Temp = [prob_Temp, prob_temp] \n",
    "prob_Temp"
   ]
  },
  {
   "cell_type": "markdown",
   "id": "50135a60",
   "metadata": {},
   "source": [
    "## Order Table by Humidity - Calculate based on Humidity"
   ]
  },
  {
   "cell_type": "code",
   "execution_count": 7,
   "id": "2d145b9f",
   "metadata": {},
   "outputs": [
    {
     "data": {
      "text/html": [
       "<div>\n",
       "<style scoped>\n",
       "    .dataframe tbody tr th:only-of-type {\n",
       "        vertical-align: middle;\n",
       "    }\n",
       "\n",
       "    .dataframe tbody tr th {\n",
       "        vertical-align: top;\n",
       "    }\n",
       "\n",
       "    .dataframe thead th {\n",
       "        text-align: right;\n",
       "    }\n",
       "</style>\n",
       "<table border=\"1\" class=\"dataframe\">\n",
       "  <thead>\n",
       "    <tr style=\"text-align: right;\">\n",
       "      <th></th>\n",
       "      <th>Outlook</th>\n",
       "      <th>Temperature</th>\n",
       "      <th>Humidity</th>\n",
       "      <th>Windy</th>\n",
       "      <th>Play Golf</th>\n",
       "    </tr>\n",
       "  </thead>\n",
       "  <tbody>\n",
       "    <tr>\n",
       "      <th>0</th>\n",
       "      <td>Rainy</td>\n",
       "      <td>Hot</td>\n",
       "      <td>High</td>\n",
       "      <td>True</td>\n",
       "      <td>No</td>\n",
       "    </tr>\n",
       "    <tr>\n",
       "      <th>1</th>\n",
       "      <td>Rainy</td>\n",
       "      <td>Hot</td>\n",
       "      <td>High</td>\n",
       "      <td>True</td>\n",
       "      <td>Yes</td>\n",
       "    </tr>\n",
       "    <tr>\n",
       "      <th>2</th>\n",
       "      <td>Overcast</td>\n",
       "      <td>Hot</td>\n",
       "      <td>High</td>\n",
       "      <td>False</td>\n",
       "      <td>Yes</td>\n",
       "    </tr>\n",
       "    <tr>\n",
       "      <th>3</th>\n",
       "      <td>Sunny</td>\n",
       "      <td>Mild</td>\n",
       "      <td>High</td>\n",
       "      <td>False</td>\n",
       "      <td>Yes</td>\n",
       "    </tr>\n",
       "    <tr>\n",
       "      <th>4</th>\n",
       "      <td>Rainy</td>\n",
       "      <td>Mild</td>\n",
       "      <td>High</td>\n",
       "      <td>False</td>\n",
       "      <td>Yes</td>\n",
       "    </tr>\n",
       "    <tr>\n",
       "      <th>5</th>\n",
       "      <td>Overcast</td>\n",
       "      <td>Mild</td>\n",
       "      <td>High</td>\n",
       "      <td>True</td>\n",
       "      <td>Yes</td>\n",
       "    </tr>\n",
       "    <tr>\n",
       "      <th>6</th>\n",
       "      <td>Sunny</td>\n",
       "      <td>Mild</td>\n",
       "      <td>High</td>\n",
       "      <td>True</td>\n",
       "      <td>No</td>\n",
       "    </tr>\n",
       "  </tbody>\n",
       "</table>\n",
       "</div>"
      ],
      "text/plain": [
       "    Outlook Temperature Humidity  Windy Play Golf\n",
       "0     Rainy         Hot     High   True        No\n",
       "1     Rainy         Hot     High   True       Yes\n",
       "2  Overcast         Hot     High  False       Yes\n",
       "3     Sunny        Mild     High  False       Yes\n",
       "4     Rainy        Mild     High  False       Yes\n",
       "5  Overcast        Mild     High   True       Yes\n",
       "6     Sunny        Mild     High   True        No"
      ]
     },
     "execution_count": 7,
     "metadata": {},
     "output_type": "execute_result"
    }
   ],
   "source": [
    "df_humidity_high = df.loc[df['Humidity'] == 'High']\n",
    "df_humidity_high = df_humidity_high.reset_index(drop=True)\n",
    "\n",
    "df_humidity_normal = df.loc[df['Humidity'] == 'Normal']\n",
    "df_humidity_normal = df_humidity_normal.reset_index(drop=True)\n",
    "\n",
    "df_Humidity = [df_humidity_high, df_humidity_normal]\n",
    "df_Humidity[0]"
   ]
  },
  {
   "cell_type": "code",
   "execution_count": 8,
   "id": "222d6f2e",
   "metadata": {},
   "outputs": [
    {
     "data": {
      "text/plain": [
       "[array([[0.6],\n",
       "        [0.4]]),\n",
       " array([[0.5],\n",
       "        [0.5]])]"
      ]
     },
     "execution_count": 8,
     "metadata": {},
     "output_type": "execute_result"
    }
   ],
   "source": [
    "for nn in range(2):\n",
    "    humidity_data = []\n",
    "    label = Outlook[nn]\n",
    "    \n",
    "    for n in range(2): #Table Value Options\n",
    "        xx = []\n",
    "        df_humidity = df_Humidity[n]\n",
    "        val_humidity = Humidity[n]\n",
    "        \n",
    "        for i in range(len(df_humidity)):\n",
    "            x = int((df_humidity['Humidity'][i] == val_humidity and df_humidity['Outlook'][i] == label))\n",
    "            xx = np.append(xx,x)\n",
    "            xxx = sum(xx)\n",
    "            \n",
    "        humidity_data = np.append(humidity_data, xxx)\n",
    "        \n",
    "    prob_humidity = (humidity_data/sum(humidity_data)).reshape(2,1)\n",
    "    \n",
    "    if nn == 0:\n",
    "        prob_Humidity = prob_humidity\n",
    "    if nn == 1:\n",
    "        prob_Humidity = [prob_Humidity, prob_humidity]\n",
    "prob_Humidity        "
   ]
  },
  {
   "cell_type": "markdown",
   "id": "c6007a94",
   "metadata": {},
   "source": [
    "## Order Table by Windy - Calculate based on Windy"
   ]
  },
  {
   "cell_type": "code",
   "execution_count": 9,
   "id": "a1905a78",
   "metadata": {},
   "outputs": [
    {
     "data": {
      "text/html": [
       "<div>\n",
       "<style scoped>\n",
       "    .dataframe tbody tr th:only-of-type {\n",
       "        vertical-align: middle;\n",
       "    }\n",
       "\n",
       "    .dataframe tbody tr th {\n",
       "        vertical-align: top;\n",
       "    }\n",
       "\n",
       "    .dataframe thead th {\n",
       "        text-align: right;\n",
       "    }\n",
       "</style>\n",
       "<table border=\"1\" class=\"dataframe\">\n",
       "  <thead>\n",
       "    <tr style=\"text-align: right;\">\n",
       "      <th></th>\n",
       "      <th>Outlook</th>\n",
       "      <th>Temperature</th>\n",
       "      <th>Humidity</th>\n",
       "      <th>Windy</th>\n",
       "      <th>Play Golf</th>\n",
       "    </tr>\n",
       "  </thead>\n",
       "  <tbody>\n",
       "  </tbody>\n",
       "</table>\n",
       "</div>"
      ],
      "text/plain": [
       "Empty DataFrame\n",
       "Columns: [Outlook, Temperature, Humidity, Windy, Play Golf]\n",
       "Index: []"
      ]
     },
     "execution_count": 9,
     "metadata": {},
     "output_type": "execute_result"
    }
   ],
   "source": [
    "df_windy_true = df.loc[df['Windy'] == 'True']\n",
    "df_windy_true = df_windy_true.reset_index(drop=True)\n",
    "\n",
    "df_windy_false = df.loc[df['Windy'] == 'False']\n",
    "df_windy_false = df_windy_false.reset_index(drop=True)\n",
    "\n",
    "df_Windy = [df_windy_false, df_windy_true]\n",
    "df_Windy[1] \n",
    "#table not displaying"
   ]
  },
  {
   "cell_type": "code",
   "execution_count": 10,
   "id": "55eb8c9a",
   "metadata": {},
   "outputs": [
    {
     "data": {
      "text/plain": [
       "[array([[0.5],\n",
       "        [0.5]]),\n",
       " array([[0.5],\n",
       "        [0.5]])]"
      ]
     },
     "execution_count": 10,
     "metadata": {},
     "output_type": "execute_result"
    }
   ],
   "source": [
    "for nn in range(2):\n",
    "    windy_data= []\n",
    "    label = Outlook[nn]\n",
    "    \n",
    "    for n in range(2):\n",
    "        xx = []\n",
    "        df_windy = df_Windy[n]\n",
    "        wind = Windy[n]\n",
    "        \n",
    "        for i in range(len(df_windy)):\n",
    "            x = int((df_windy['Windy'][i] == wind and df_windy['Outlook'][i] == label))\n",
    "            xx = np.append(xx, x)\n",
    "            xxx = sum(xx)\n",
    "            \n",
    "        windy_data = np.append(windy_data,xxx)\n",
    "        \n",
    "    prob_windy = (windy_data/sum(windy_data)).reshape(2,1)\n",
    "    \n",
    "    if nn == 0:\n",
    "        prob_Windy = prob_windy\n",
    "    if nn == 1:\n",
    "        prob_Windy = [prob_Windy, prob_windy]\n",
    "prob_Windy"
   ]
  },
  {
   "cell_type": "markdown",
   "id": "93075340",
   "metadata": {},
   "source": [
    "## Calculate Probability of Outlook"
   ]
  },
  {
   "cell_type": "code",
   "execution_count": 11,
   "id": "fbc256e5",
   "metadata": {},
   "outputs": [],
   "source": [
    "prob_outlook_rainy = sum((df['Outlook'] == 'Rainy').to_numpy())/len(df)\n",
    "prob_outlook_overcast = sum((df['Outlook'] == 'Overcast').to_numpy())/len(df)\n",
    "prob_outlook_sunny = sum((df['Outlook'] == 'Sunny').to_numpy())/len(df)"
   ]
  },
  {
   "cell_type": "markdown",
   "id": "6883c2eb",
   "metadata": {},
   "source": [
    "## Actual Prediction"
   ]
  },
  {
   "cell_type": "code",
   "execution_count": 12,
   "id": "938f58b4",
   "metadata": {},
   "outputs": [
    {
     "name": "stdout",
     "output_type": "stream",
     "text": [
      "Temperature for the day: Mild\n",
      "Humidity for the day: High\n",
      "Wind for the day: True\n"
     ]
    }
   ],
   "source": [
    "Outlook = ['Rainy', 'Overcast', 'Sunny']\n",
    "Temperature = ['Hot', 'Mild','Cool']\n",
    "Humidity = ['High','Normal']\n",
    "Windy = ['True', 'False'] #might not work with string\n",
    "PlayGolf = ['Yes','No'] \n",
    "\n",
    "#user-input\n",
    "#a1 = Outlook.index(input('Outlook for the day: '))\n",
    "a2 = Temperature.index(input('Temperature for the day: '))\n",
    "a3 = Humidity.index(input('Humidity for the day: '))\n",
    "a4 = Windy.index(input('Wind for the day: '))"
   ]
  },
  {
   "cell_type": "markdown",
   "id": "4e8e1b12",
   "metadata": {},
   "source": [
    "## Request user-input"
   ]
  },
  {
   "cell_type": "code",
   "execution_count": 13,
   "id": "c120fedd",
   "metadata": {},
   "outputs": [
    {
     "name": "stdout",
     "output_type": "stream",
     "text": [
      "The likelihood that rain will fall is HIGH. Rainy outlook.\n"
     ]
    }
   ],
   "source": [
    "Likelihood_rainy = prob_outlook_rainy * prob_Temp[0][a2] * prob_Humidity[0][a3] * prob_Windy[0][a4]\n",
    "Likelihood_sunny = prob_outlook_sunny * prob_Temp[1][a2] * prob_Humidity[1][a3] * prob_Windy[1][a4]\n",
    "\n",
    "#Likelihood_overcast = prob_outlook_overcast * prob_Outlook[1][a1] * prob_Temp[1][a2] * prob_Humidity[1][a3] * prob_Windy[1][a4]\n",
    "\n",
    "if(Likelihood_rainy > Likelihood_sunny):\n",
    "    print('The likelihood that rain will fall is HIGH. Rainy outlook.')\n",
    "else:\n",
    "    print('The likelihood that rain will fall is Low. Sunny outlook.')\n",
    "    \n",
    "#Error produced whenusing three Likelihoods\n",
    "\n",
    "#if ((Likelihood_rainy > Likelihood_overcast)and(Likelihood_rainy > Likelihood_sunny)): \n",
    "#    print('The likelihood that rain will fall is HIGH. Rainy outlook.')\n",
    "#elif((Likelihood_overcast > Likelihood_rainy)and(Likelihood_overcast > Likelihood_sunny)):\n",
    "#    print('The likelihood that rain will fall is MEDIUM. Overcast outlook.')\n",
    "#elif((Likelihood_sunny > likelihood_rainy)and(Likelihood_sunny > Likelihood_overcast)):\n",
    "#    print('The likelihood that rain will fall is LOW. Sunny outlook.')"
   ]
  },
  {
   "cell_type": "code",
   "execution_count": null,
   "id": "5cb0f83f",
   "metadata": {},
   "outputs": [],
   "source": []
  }
 ],
 "metadata": {
  "kernelspec": {
   "display_name": "Python 3 (ipykernel)",
   "language": "python",
   "name": "python3"
  },
  "language_info": {
   "codemirror_mode": {
    "name": "ipython",
    "version": 3
   },
   "file_extension": ".py",
   "mimetype": "text/x-python",
   "name": "python",
   "nbconvert_exporter": "python",
   "pygments_lexer": "ipython3",
   "version": "3.9.12"
  }
 },
 "nbformat": 4,
 "nbformat_minor": 5
}
